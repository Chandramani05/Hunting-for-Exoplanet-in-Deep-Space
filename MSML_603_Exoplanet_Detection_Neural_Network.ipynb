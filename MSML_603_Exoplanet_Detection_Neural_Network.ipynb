{
  "nbformat": 4,
  "nbformat_minor": 0,
  "metadata": {
    "colab": {
      "provenance": [],
      "mount_file_id": "1x1GfI5mXDdEKq8wLJitBLsogYQRwLB1o",
      "authorship_tag": "ABX9TyMN+Yf23bRnPYLfhy6q+NJE",
      "include_colab_link": true
    },
    "kernelspec": {
      "name": "python3",
      "display_name": "Python 3"
    },
    "language_info": {
      "name": "python"
    }
  },
  "cells": [
    {
      "cell_type": "markdown",
      "metadata": {
        "id": "view-in-github",
        "colab_type": "text"
      },
      "source": [
        "<a href=\"https://colab.research.google.com/github/Chandramani05/Hunting-for-Exoplanet-in-Deep-Space/blob/main/MSML_603_Exoplanet_Detection_Neural_Network.ipynb\" target=\"_parent\"><img src=\"https://colab.research.google.com/assets/colab-badge.svg\" alt=\"Open In Colab\"/></a>"
      ]
    },
    {
      "cell_type": "code",
      "source": [
        "!pip install eli5\n",
        "!pip install scikeras"
      ],
      "metadata": {
        "colab": {
          "base_uri": "https://localhost:8080/"
        },
        "id": "TyshecM3d2KF",
        "outputId": "c469149a-a373-48c2-fae5-523ac4ff66ee"
      },
      "execution_count": 31,
      "outputs": [
        {
          "output_type": "stream",
          "name": "stdout",
          "text": [
            "Looking in indexes: https://pypi.org/simple, https://us-python.pkg.dev/colab-wheels/public/simple/\n",
            "Requirement already satisfied: eli5 in /usr/local/lib/python3.8/dist-packages (0.13.0)\n",
            "Requirement already satisfied: jinja2>=3.0.0 in /usr/local/lib/python3.8/dist-packages (from eli5) (3.1.2)\n",
            "Requirement already satisfied: attrs>17.1.0 in /usr/local/lib/python3.8/dist-packages (from eli5) (22.1.0)\n",
            "Requirement already satisfied: numpy>=1.9.0 in /usr/local/lib/python3.8/dist-packages (from eli5) (1.21.6)\n",
            "Requirement already satisfied: scikit-learn>=0.20 in /usr/local/lib/python3.8/dist-packages (from eli5) (1.0.2)\n",
            "Requirement already satisfied: graphviz in /usr/local/lib/python3.8/dist-packages (from eli5) (0.10.1)\n",
            "Requirement already satisfied: scipy in /usr/local/lib/python3.8/dist-packages (from eli5) (1.7.3)\n",
            "Requirement already satisfied: six in /usr/local/lib/python3.8/dist-packages (from eli5) (1.15.0)\n",
            "Requirement already satisfied: tabulate>=0.7.7 in /usr/local/lib/python3.8/dist-packages (from eli5) (0.8.10)\n",
            "Requirement already satisfied: MarkupSafe>=2.0 in /usr/local/lib/python3.8/dist-packages (from jinja2>=3.0.0->eli5) (2.0.1)\n",
            "Requirement already satisfied: threadpoolctl>=2.0.0 in /usr/local/lib/python3.8/dist-packages (from scikit-learn>=0.20->eli5) (3.1.0)\n",
            "Requirement already satisfied: joblib>=0.11 in /usr/local/lib/python3.8/dist-packages (from scikit-learn>=0.20->eli5) (1.2.0)\n",
            "Looking in indexes: https://pypi.org/simple, https://us-python.pkg.dev/colab-wheels/public/simple/\n",
            "Collecting scikeras\n",
            "  Downloading scikeras-0.10.0-py3-none-any.whl (27 kB)\n",
            "Requirement already satisfied: scikit-learn>=1.0.0 in /usr/local/lib/python3.8/dist-packages (from scikeras) (1.0.2)\n",
            "Requirement already satisfied: packaging>=0.21 in /usr/local/lib/python3.8/dist-packages (from scikeras) (21.3)\n",
            "Requirement already satisfied: pyparsing!=3.0.5,>=2.0.2 in /usr/local/lib/python3.8/dist-packages (from packaging>=0.21->scikeras) (3.0.9)\n",
            "Requirement already satisfied: threadpoolctl>=2.0.0 in /usr/local/lib/python3.8/dist-packages (from scikit-learn>=1.0.0->scikeras) (3.1.0)\n",
            "Requirement already satisfied: scipy>=1.1.0 in /usr/local/lib/python3.8/dist-packages (from scikit-learn>=1.0.0->scikeras) (1.7.3)\n",
            "Requirement already satisfied: numpy>=1.14.6 in /usr/local/lib/python3.8/dist-packages (from scikit-learn>=1.0.0->scikeras) (1.21.6)\n",
            "Requirement already satisfied: joblib>=0.11 in /usr/local/lib/python3.8/dist-packages (from scikit-learn>=1.0.0->scikeras) (1.2.0)\n",
            "Installing collected packages: scikeras\n",
            "Successfully installed scikeras-0.10.0\n"
          ]
        }
      ]
    },
    {
      "cell_type": "markdown",
      "source": [
        "##Importing Libraries"
      ],
      "metadata": {
        "id": "tPx9gRc_PX47"
      }
    },
    {
      "cell_type": "code",
      "execution_count": 32,
      "metadata": {
        "id": "eaLw57xLbtsF"
      },
      "outputs": [],
      "source": [
        "import numpy as np\n",
        "import pandas as pd\n",
        "from sklearn.preprocessing import StandardScaler\n",
        "import tensorflow as tf\n",
        "from sklearn.model_selection import train_test_split, StratifiedKFold, KFold\n",
        "from sklearn.decomposition import PCA\n",
        "from tensorflow import keras \n",
        "from keras import Sequential\n",
        "from keras.layers import Dense\n",
        "import joblib\n",
        "from sklearn.metrics import confusion_matrix, f1_score, classification_report, balanced_accuracy_score, cohen_kappa_score\n",
        "from scikeras.wrappers import KerasClassifier, KerasRegressor\n",
        "import eli5\n",
        "from eli5.sklearn import PermutationImportance\n",
        "import matplotlib.pyplot as plt"
      ]
    },
    {
      "cell_type": "markdown",
      "source": [
        "#Loading the Dataset"
      ],
      "metadata": {
        "id": "icKNDztqPcDw"
      }
    },
    {
      "cell_type": "code",
      "source": [
        "df = pd.read_csv(\"/content/drive/MyDrive/Kepler Exoplanet/data/Cleaned Kepler Data.csv\")\n",
        "df.drop(columns = [\"Unnamed: 0\"], inplace=True)\n",
        "print(df.shape)\n",
        "df.head()"
      ],
      "metadata": {
        "colab": {
          "base_uri": "https://localhost:8080/",
          "height": 317
        },
        "id": "LZ96heiMcFlA",
        "outputId": "de7b4760-4fdb-45a7-d9d5-d872e17452c8"
      },
      "execution_count": 35,
      "outputs": [
        {
          "output_type": "stream",
          "name": "stdout",
          "text": [
            "(9199, 47)\n"
          ]
        },
        {
          "output_type": "execute_result",
          "data": {
            "text/plain": [
              "   rowid     kepid kepoi_name koi_disposition koi_pdisposition  koi_score  \\\n",
              "0      1  10797460  K00752.01       CONFIRMED        CANDIDATE      1.000   \n",
              "1      2  10797460  K00752.02       CONFIRMED        CANDIDATE      0.969   \n",
              "2      3  10811496  K00753.01  FALSE POSITIVE   FALSE POSITIVE      0.000   \n",
              "3      4  10848459  K00754.01  FALSE POSITIVE   FALSE POSITIVE      0.000   \n",
              "4      5  10854555  K00755.01       CONFIRMED        CANDIDATE      1.000   \n",
              "\n",
              "   koi_fpflag_nt  koi_fpflag_ss  koi_fpflag_co  koi_fpflag_ec  ...  \\\n",
              "0              0              0              0              0  ...   \n",
              "1              0              0              0              0  ...   \n",
              "2              0              1              0              0  ...   \n",
              "3              0              1              0              0  ...   \n",
              "4              0              0              0              0  ...   \n",
              "\n",
              "   koi_steff_err2  koi_slogg  koi_slogg_err1  koi_slogg_err2  koi_srad  \\\n",
              "0           -81.0      4.467           0.064          -0.096     0.927   \n",
              "1           -81.0      4.467           0.064          -0.096     0.927   \n",
              "2          -176.0      4.544           0.044          -0.176     0.868   \n",
              "3          -174.0      4.564           0.053          -0.168     0.791   \n",
              "4          -211.0      4.438           0.070          -0.210     1.046   \n",
              "\n",
              "   koi_srad_err1  koi_srad_err2         ra        dec  koi_kepmag  \n",
              "0          0.105         -0.061  291.93423  48.141651      15.347  \n",
              "1          0.105         -0.061  291.93423  48.141651      15.347  \n",
              "2          0.233         -0.078  297.00482  48.134129      15.436  \n",
              "3          0.201         -0.067  285.53461  48.285210      15.597  \n",
              "4          0.334         -0.133  288.75488  48.226200      15.509  \n",
              "\n",
              "[5 rows x 47 columns]"
            ],
            "text/html": [
              "\n",
              "  <div id=\"df-38980f45-acf7-434c-80b2-83e6171e65ad\">\n",
              "    <div class=\"colab-df-container\">\n",
              "      <div>\n",
              "<style scoped>\n",
              "    .dataframe tbody tr th:only-of-type {\n",
              "        vertical-align: middle;\n",
              "    }\n",
              "\n",
              "    .dataframe tbody tr th {\n",
              "        vertical-align: top;\n",
              "    }\n",
              "\n",
              "    .dataframe thead th {\n",
              "        text-align: right;\n",
              "    }\n",
              "</style>\n",
              "<table border=\"1\" class=\"dataframe\">\n",
              "  <thead>\n",
              "    <tr style=\"text-align: right;\">\n",
              "      <th></th>\n",
              "      <th>rowid</th>\n",
              "      <th>kepid</th>\n",
              "      <th>kepoi_name</th>\n",
              "      <th>koi_disposition</th>\n",
              "      <th>koi_pdisposition</th>\n",
              "      <th>koi_score</th>\n",
              "      <th>koi_fpflag_nt</th>\n",
              "      <th>koi_fpflag_ss</th>\n",
              "      <th>koi_fpflag_co</th>\n",
              "      <th>koi_fpflag_ec</th>\n",
              "      <th>...</th>\n",
              "      <th>koi_steff_err2</th>\n",
              "      <th>koi_slogg</th>\n",
              "      <th>koi_slogg_err1</th>\n",
              "      <th>koi_slogg_err2</th>\n",
              "      <th>koi_srad</th>\n",
              "      <th>koi_srad_err1</th>\n",
              "      <th>koi_srad_err2</th>\n",
              "      <th>ra</th>\n",
              "      <th>dec</th>\n",
              "      <th>koi_kepmag</th>\n",
              "    </tr>\n",
              "  </thead>\n",
              "  <tbody>\n",
              "    <tr>\n",
              "      <th>0</th>\n",
              "      <td>1</td>\n",
              "      <td>10797460</td>\n",
              "      <td>K00752.01</td>\n",
              "      <td>CONFIRMED</td>\n",
              "      <td>CANDIDATE</td>\n",
              "      <td>1.000</td>\n",
              "      <td>0</td>\n",
              "      <td>0</td>\n",
              "      <td>0</td>\n",
              "      <td>0</td>\n",
              "      <td>...</td>\n",
              "      <td>-81.0</td>\n",
              "      <td>4.467</td>\n",
              "      <td>0.064</td>\n",
              "      <td>-0.096</td>\n",
              "      <td>0.927</td>\n",
              "      <td>0.105</td>\n",
              "      <td>-0.061</td>\n",
              "      <td>291.93423</td>\n",
              "      <td>48.141651</td>\n",
              "      <td>15.347</td>\n",
              "    </tr>\n",
              "    <tr>\n",
              "      <th>1</th>\n",
              "      <td>2</td>\n",
              "      <td>10797460</td>\n",
              "      <td>K00752.02</td>\n",
              "      <td>CONFIRMED</td>\n",
              "      <td>CANDIDATE</td>\n",
              "      <td>0.969</td>\n",
              "      <td>0</td>\n",
              "      <td>0</td>\n",
              "      <td>0</td>\n",
              "      <td>0</td>\n",
              "      <td>...</td>\n",
              "      <td>-81.0</td>\n",
              "      <td>4.467</td>\n",
              "      <td>0.064</td>\n",
              "      <td>-0.096</td>\n",
              "      <td>0.927</td>\n",
              "      <td>0.105</td>\n",
              "      <td>-0.061</td>\n",
              "      <td>291.93423</td>\n",
              "      <td>48.141651</td>\n",
              "      <td>15.347</td>\n",
              "    </tr>\n",
              "    <tr>\n",
              "      <th>2</th>\n",
              "      <td>3</td>\n",
              "      <td>10811496</td>\n",
              "      <td>K00753.01</td>\n",
              "      <td>FALSE POSITIVE</td>\n",
              "      <td>FALSE POSITIVE</td>\n",
              "      <td>0.000</td>\n",
              "      <td>0</td>\n",
              "      <td>1</td>\n",
              "      <td>0</td>\n",
              "      <td>0</td>\n",
              "      <td>...</td>\n",
              "      <td>-176.0</td>\n",
              "      <td>4.544</td>\n",
              "      <td>0.044</td>\n",
              "      <td>-0.176</td>\n",
              "      <td>0.868</td>\n",
              "      <td>0.233</td>\n",
              "      <td>-0.078</td>\n",
              "      <td>297.00482</td>\n",
              "      <td>48.134129</td>\n",
              "      <td>15.436</td>\n",
              "    </tr>\n",
              "    <tr>\n",
              "      <th>3</th>\n",
              "      <td>4</td>\n",
              "      <td>10848459</td>\n",
              "      <td>K00754.01</td>\n",
              "      <td>FALSE POSITIVE</td>\n",
              "      <td>FALSE POSITIVE</td>\n",
              "      <td>0.000</td>\n",
              "      <td>0</td>\n",
              "      <td>1</td>\n",
              "      <td>0</td>\n",
              "      <td>0</td>\n",
              "      <td>...</td>\n",
              "      <td>-174.0</td>\n",
              "      <td>4.564</td>\n",
              "      <td>0.053</td>\n",
              "      <td>-0.168</td>\n",
              "      <td>0.791</td>\n",
              "      <td>0.201</td>\n",
              "      <td>-0.067</td>\n",
              "      <td>285.53461</td>\n",
              "      <td>48.285210</td>\n",
              "      <td>15.597</td>\n",
              "    </tr>\n",
              "    <tr>\n",
              "      <th>4</th>\n",
              "      <td>5</td>\n",
              "      <td>10854555</td>\n",
              "      <td>K00755.01</td>\n",
              "      <td>CONFIRMED</td>\n",
              "      <td>CANDIDATE</td>\n",
              "      <td>1.000</td>\n",
              "      <td>0</td>\n",
              "      <td>0</td>\n",
              "      <td>0</td>\n",
              "      <td>0</td>\n",
              "      <td>...</td>\n",
              "      <td>-211.0</td>\n",
              "      <td>4.438</td>\n",
              "      <td>0.070</td>\n",
              "      <td>-0.210</td>\n",
              "      <td>1.046</td>\n",
              "      <td>0.334</td>\n",
              "      <td>-0.133</td>\n",
              "      <td>288.75488</td>\n",
              "      <td>48.226200</td>\n",
              "      <td>15.509</td>\n",
              "    </tr>\n",
              "  </tbody>\n",
              "</table>\n",
              "<p>5 rows × 47 columns</p>\n",
              "</div>\n",
              "      <button class=\"colab-df-convert\" onclick=\"convertToInteractive('df-38980f45-acf7-434c-80b2-83e6171e65ad')\"\n",
              "              title=\"Convert this dataframe to an interactive table.\"\n",
              "              style=\"display:none;\">\n",
              "        \n",
              "  <svg xmlns=\"http://www.w3.org/2000/svg\" height=\"24px\"viewBox=\"0 0 24 24\"\n",
              "       width=\"24px\">\n",
              "    <path d=\"M0 0h24v24H0V0z\" fill=\"none\"/>\n",
              "    <path d=\"M18.56 5.44l.94 2.06.94-2.06 2.06-.94-2.06-.94-.94-2.06-.94 2.06-2.06.94zm-11 1L8.5 8.5l.94-2.06 2.06-.94-2.06-.94L8.5 2.5l-.94 2.06-2.06.94zm10 10l.94 2.06.94-2.06 2.06-.94-2.06-.94-.94-2.06-.94 2.06-2.06.94z\"/><path d=\"M17.41 7.96l-1.37-1.37c-.4-.4-.92-.59-1.43-.59-.52 0-1.04.2-1.43.59L10.3 9.45l-7.72 7.72c-.78.78-.78 2.05 0 2.83L4 21.41c.39.39.9.59 1.41.59.51 0 1.02-.2 1.41-.59l7.78-7.78 2.81-2.81c.8-.78.8-2.07 0-2.86zM5.41 20L4 18.59l7.72-7.72 1.47 1.35L5.41 20z\"/>\n",
              "  </svg>\n",
              "      </button>\n",
              "      \n",
              "  <style>\n",
              "    .colab-df-container {\n",
              "      display:flex;\n",
              "      flex-wrap:wrap;\n",
              "      gap: 12px;\n",
              "    }\n",
              "\n",
              "    .colab-df-convert {\n",
              "      background-color: #E8F0FE;\n",
              "      border: none;\n",
              "      border-radius: 50%;\n",
              "      cursor: pointer;\n",
              "      display: none;\n",
              "      fill: #1967D2;\n",
              "      height: 32px;\n",
              "      padding: 0 0 0 0;\n",
              "      width: 32px;\n",
              "    }\n",
              "\n",
              "    .colab-df-convert:hover {\n",
              "      background-color: #E2EBFA;\n",
              "      box-shadow: 0px 1px 2px rgba(60, 64, 67, 0.3), 0px 1px 3px 1px rgba(60, 64, 67, 0.15);\n",
              "      fill: #174EA6;\n",
              "    }\n",
              "\n",
              "    [theme=dark] .colab-df-convert {\n",
              "      background-color: #3B4455;\n",
              "      fill: #D2E3FC;\n",
              "    }\n",
              "\n",
              "    [theme=dark] .colab-df-convert:hover {\n",
              "      background-color: #434B5C;\n",
              "      box-shadow: 0px 1px 3px 1px rgba(0, 0, 0, 0.15);\n",
              "      filter: drop-shadow(0px 1px 2px rgba(0, 0, 0, 0.3));\n",
              "      fill: #FFFFFF;\n",
              "    }\n",
              "  </style>\n",
              "\n",
              "      <script>\n",
              "        const buttonEl =\n",
              "          document.querySelector('#df-38980f45-acf7-434c-80b2-83e6171e65ad button.colab-df-convert');\n",
              "        buttonEl.style.display =\n",
              "          google.colab.kernel.accessAllowed ? 'block' : 'none';\n",
              "\n",
              "        async function convertToInteractive(key) {\n",
              "          const element = document.querySelector('#df-38980f45-acf7-434c-80b2-83e6171e65ad');\n",
              "          const dataTable =\n",
              "            await google.colab.kernel.invokeFunction('convertToInteractive',\n",
              "                                                     [key], {});\n",
              "          if (!dataTable) return;\n",
              "\n",
              "          const docLinkHtml = 'Like what you see? Visit the ' +\n",
              "            '<a target=\"_blank\" href=https://colab.research.google.com/notebooks/data_table.ipynb>data table notebook</a>'\n",
              "            + ' to learn more about interactive tables.';\n",
              "          element.innerHTML = '';\n",
              "          dataTable['output_type'] = 'display_data';\n",
              "          await google.colab.output.renderOutput(dataTable, element);\n",
              "          const docLink = document.createElement('div');\n",
              "          docLink.innerHTML = docLinkHtml;\n",
              "          element.appendChild(docLink);\n",
              "        }\n",
              "      </script>\n",
              "    </div>\n",
              "  </div>\n",
              "  "
            ]
          },
          "metadata": {},
          "execution_count": 35
        }
      ]
    },
    {
      "cell_type": "code",
      "source": [
        "def saveModel(model, filename):\n",
        "    model.save(filename)\n",
        "\n",
        "def loadModel(filename):\n",
        "    model = joblib.load(filename)\n",
        "    return model"
      ],
      "metadata": {
        "id": "LuUZO4B2dz3q"
      },
      "execution_count": 36,
      "outputs": []
    },
    {
      "cell_type": "markdown",
      "source": [
        "#Data Preprocessing"
      ],
      "metadata": {
        "id": "7rMSY4J0PqZT"
      }
    },
    {
      "cell_type": "code",
      "source": [
        "ALL_COLUMNS = df.columns\n",
        "ERROR_COLUMNS = [col for col in ALL_COLUMNS if \"err\" in col]\n",
        "EXCLUDE = [\"rowid\", \"kepid\", \"kepoi_name\", \"koi_score\", \"koi_disposition\", \"koi_pdisposition\", \"koi_tce_delivname\", \"koi_tce_plnt_num\"] + ERROR_COLUMNS\n",
        "TO_USE = list(set(ALL_COLUMNS) - set(EXCLUDE))"
      ],
      "metadata": {
        "id": "6jUx8DzgPixK"
      },
      "execution_count": 55,
      "outputs": []
    },
    {
      "cell_type": "code",
      "source": [
        "subset_df = df[df[\"koi_disposition\"] != \"CANDIDATE\"]"
      ],
      "metadata": {
        "id": "46qVmXxeehHY"
      },
      "execution_count": 38,
      "outputs": []
    },
    {
      "cell_type": "code",
      "source": [
        "X = subset_df[TO_USE].values\n",
        "y = subset_df[\"koi_disposition\"].apply(lambda x: x=='CONFIRMED').astype(int).values"
      ],
      "metadata": {
        "id": "BdhVL_7PejO6"
      },
      "execution_count": 39,
      "outputs": []
    },
    {
      "cell_type": "markdown",
      "source": [
        "##Scaling the DataSet"
      ],
      "metadata": {
        "id": "SEe4-4KvPujT"
      }
    },
    {
      "cell_type": "code",
      "source": [
        "X = StandardScaler().fit_transform(X)\n",
        "X = PCA(n_components=19).fit_transform(X)"
      ],
      "metadata": {
        "id": "oYCRcK68elXp"
      },
      "execution_count": 40,
      "outputs": []
    },
    {
      "cell_type": "markdown",
      "source": [
        "##Splitting The Dataset"
      ],
      "metadata": {
        "id": "6f6zQ8oGPxva"
      }
    },
    {
      "cell_type": "code",
      "source": [
        "X_train, X_test, y_train, y_test = train_test_split(X, y, test_size = 0.2, random_state = 0, stratify=y)"
      ],
      "metadata": {
        "id": "Cqgd_YLpenFA"
      },
      "execution_count": 41,
      "outputs": []
    },
    {
      "cell_type": "markdown",
      "source": [
        "##Hyperparamters for Neural Network"
      ],
      "metadata": {
        "id": "ki225Mz3P243"
      }
    },
    {
      "cell_type": "code",
      "source": [
        "def createModel():\n",
        "    model = Sequential([\n",
        "                    Dense(256, activation = 'relu', input_dim=19),\n",
        "                    Dense(128, activation = 'relu'),\n",
        "                    Dense(128, activation = 'relu'),\n",
        "                    Dense(1, activation = 'sigmoid')\n",
        "                   ])\n",
        "    model.compile(optimizer = 'adam', loss = 'binary_crossentropy', metrics = ['binary_accuracy'])\n",
        "    return model"
      ],
      "metadata": {
        "id": "bZGNLpGUeqGJ"
      },
      "execution_count": 50,
      "outputs": []
    },
    {
      "cell_type": "code",
      "source": [
        "def performance(test, pred):\n",
        "    conf_matrix = confusion_matrix(test, pred)\n",
        "    f1 = f1_score(test, pred)\n",
        "    report = classification_report(test, pred)\n",
        "    accuracy = balanced_accuracy_score(test, pred)\n",
        "    print(f\"F1 Score: {f1}\")\n",
        "    print(f\"Accuracy Score: {accuracy}\")\n",
        "    print(f\"Confusion Matrix:\\n{conf_matrix}\")\n",
        "    print(report)"
      ],
      "metadata": {
        "id": "CSDBr85vesrg"
      },
      "execution_count": 43,
      "outputs": []
    },
    {
      "cell_type": "markdown",
      "source": [
        "##Evaluating the Neual Network"
      ],
      "metadata": {
        "id": "QrIk0Vu4QN1f"
      }
    },
    {
      "cell_type": "code",
      "source": [
        "def trainEvaluate(model, fold, X_train, y_train, X_test, y_test):\n",
        "    model.fit(X_train, y_train,\n",
        "                    validation_data = (X_test, y_test),\n",
        "                    epochs=20,verbose = 0)\n",
        "    pred = model.predict(X_test)\n",
        "    prediction = np.around(pred)\n",
        "    f1 = f1_score(y_test, prediction)\n",
        "    print(f\"F1 Score in fold {fold} = {f1}\")\n",
        "    return f1\n",
        "\n",
        "\n",
        "def crossValidation(K=10):\n",
        "    kFold = KFold(n_splits=K, shuffle=True, random_state=0)\n",
        "    f1_scores = list()\n",
        "    k_ctr = 1\n",
        "    for train, test in kFold.split(X, y):\n",
        "        model = None\n",
        "        model = createModel()\n",
        "        current_f1 = trainEvaluate(model, k_ctr, X[train], y[train], X[test], y[test])\n",
        "        f1_scores.append(current_f1)\n",
        "        k_ctr+=1\n",
        "    print(f\"Average {K}-Fold F1 Score = {np.mean(f1_scores)}\\n\")\n",
        "    \n",
        "    k_ctr = 1\n",
        "    kFold = StratifiedKFold(n_splits=K, shuffle=True, random_state=0)\n",
        "    f1_scores = list()\n",
        "    for train, test in kFold.split(X, y):\n",
        "        model = None\n",
        "        model = createModel()\n",
        "        current_f1 = trainEvaluate(model, k_ctr, X[train], y[train], X[test], y[test])\n",
        "        f1_scores.append(current_f1)\n",
        "        k_ctr+=1\n",
        "    print(f\"Average Stratified {K}-Fold F1 Score = {np.mean(f1_scores)}\")"
      ],
      "metadata": {
        "id": "tkwl6OUJextC"
      },
      "execution_count": 44,
      "outputs": []
    },
    {
      "cell_type": "code",
      "source": [
        "crossValidation(K=10)"
      ],
      "metadata": {
        "colab": {
          "base_uri": "https://localhost:8080/"
        },
        "id": "hoANkHNNe14J",
        "outputId": "2776ea3c-a255-4357-c47e-0bb38c68bf38"
      },
      "execution_count": 21,
      "outputs": [
        {
          "output_type": "stream",
          "name": "stdout",
          "text": [
            "22/22 [==============================] - 0s 2ms/step\n",
            "F1 Score in fold 1 = 0.9755011135857461\n",
            "22/22 [==============================] - 0s 2ms/step\n",
            "F1 Score in fold 2 = 0.9739130434782609\n",
            "22/22 [==============================] - 0s 2ms/step\n",
            "F1 Score in fold 3 = 0.9816513761467889\n",
            "22/22 [==============================] - 0s 2ms/step\n",
            "F1 Score in fold 4 = 0.9719222462203022\n",
            "22/22 [==============================] - 0s 2ms/step\n",
            "F1 Score in fold 5 = 0.9826839826839826\n",
            "22/22 [==============================] - 0s 1ms/step\n",
            "F1 Score in fold 6 = 0.975\n",
            "22/22 [==============================] - 0s 2ms/step\n",
            "F1 Score in fold 7 = 0.9799554565701559\n",
            "22/22 [==============================] - 0s 1ms/step\n",
            "F1 Score in fold 8 = 0.985200845665962\n",
            "22/22 [==============================] - 0s 2ms/step\n",
            "F1 Score in fold 9 = 0.9779735682819383\n",
            "22/22 [==============================] - 0s 2ms/step\n",
            "F1 Score in fold 10 = 0.9732142857142858\n",
            "Average 10-Fold F1 Score = 0.9777015918347424\n",
            "\n",
            "22/22 [==============================] - 0s 2ms/step\n",
            "F1 Score in fold 1 = 0.9668874172185431\n",
            "22/22 [==============================] - 0s 2ms/step\n",
            "F1 Score in fold 2 = 0.9783549783549784\n",
            "22/22 [==============================] - 0s 2ms/step\n",
            "F1 Score in fold 3 = 0.9668874172185431\n",
            "22/22 [==============================] - 0s 1ms/step\n",
            "F1 Score in fold 4 = 0.967032967032967\n",
            "22/22 [==============================] - 0s 1ms/step\n",
            "F1 Score in fold 5 = 0.9780701754385964\n",
            "22/22 [==============================] - 0s 1ms/step\n",
            "F1 Score in fold 6 = 0.9849462365591398\n",
            "22/22 [==============================] - 0s 1ms/step\n",
            "F1 Score in fold 7 = 0.9868995633187773\n",
            "22/22 [==============================] - 0s 2ms/step\n",
            "F1 Score in fold 8 = 0.9610389610389611\n",
            "22/22 [==============================] - 0s 2ms/step\n",
            "F1 Score in fold 9 = 0.9800443458980044\n",
            "22/22 [==============================] - 0s 2ms/step\n",
            "F1 Score in fold 10 = 0.9646017699115046\n",
            "Average Stratified 10-Fold F1 Score = 0.9734763831990015\n"
          ]
        }
      ]
    },
    {
      "cell_type": "markdown",
      "source": [
        "##Testing the Model"
      ],
      "metadata": {
        "id": "1euUEiAuQTSm"
      }
    },
    {
      "cell_type": "code",
      "source": [
        "model = createModel()\n",
        "model.fit(X_train, y_train, epochs=40, verbose=1)\n",
        "pred = model.predict(X_test)\n",
        "pred = np.around(pred)"
      ],
      "metadata": {
        "colab": {
          "base_uri": "https://localhost:8080/"
        },
        "id": "pvhRxGryfyMb",
        "outputId": "16f53649-77df-4bab-d0af-852e484ec0f1"
      },
      "execution_count": 22,
      "outputs": [
        {
          "output_type": "stream",
          "name": "stdout",
          "text": [
            "Epoch 1/40\n",
            "176/176 [==============================] - 1s 3ms/step - loss: 0.1134 - binary_accuracy: 0.9649\n",
            "Epoch 2/40\n",
            "176/176 [==============================] - 1s 3ms/step - loss: 0.0637 - binary_accuracy: 0.9840\n",
            "Epoch 3/40\n",
            "176/176 [==============================] - 1s 3ms/step - loss: 0.0586 - binary_accuracy: 0.9852\n",
            "Epoch 4/40\n",
            "176/176 [==============================] - 1s 3ms/step - loss: 0.0524 - binary_accuracy: 0.9868\n",
            "Epoch 5/40\n",
            "176/176 [==============================] - 1s 3ms/step - loss: 0.0500 - binary_accuracy: 0.9872\n",
            "Epoch 6/40\n",
            "176/176 [==============================] - 1s 3ms/step - loss: 0.0473 - binary_accuracy: 0.9863\n",
            "Epoch 7/40\n",
            "176/176 [==============================] - 1s 3ms/step - loss: 0.0452 - binary_accuracy: 0.9879\n",
            "Epoch 8/40\n",
            "176/176 [==============================] - 1s 3ms/step - loss: 0.0411 - binary_accuracy: 0.9873\n",
            "Epoch 9/40\n",
            "176/176 [==============================] - 1s 3ms/step - loss: 0.0383 - binary_accuracy: 0.9881\n",
            "Epoch 10/40\n",
            "176/176 [==============================] - 1s 3ms/step - loss: 0.0369 - binary_accuracy: 0.9886\n",
            "Epoch 11/40\n",
            "176/176 [==============================] - 1s 3ms/step - loss: 0.0316 - binary_accuracy: 0.9895\n",
            "Epoch 12/40\n",
            "176/176 [==============================] - 1s 3ms/step - loss: 0.0312 - binary_accuracy: 0.9897\n",
            "Epoch 13/40\n",
            "176/176 [==============================] - 1s 3ms/step - loss: 0.0307 - binary_accuracy: 0.9886\n",
            "Epoch 14/40\n",
            "176/176 [==============================] - 1s 3ms/step - loss: 0.0275 - binary_accuracy: 0.9902\n",
            "Epoch 15/40\n",
            "176/176 [==============================] - 1s 3ms/step - loss: 0.0270 - binary_accuracy: 0.9909\n",
            "Epoch 16/40\n",
            "176/176 [==============================] - 1s 3ms/step - loss: 0.0221 - binary_accuracy: 0.9929\n",
            "Epoch 17/40\n",
            "176/176 [==============================] - 1s 3ms/step - loss: 0.0320 - binary_accuracy: 0.9911\n",
            "Epoch 18/40\n",
            "176/176 [==============================] - 1s 3ms/step - loss: 0.0207 - binary_accuracy: 0.9925\n",
            "Epoch 19/40\n",
            "176/176 [==============================] - 1s 3ms/step - loss: 0.0186 - binary_accuracy: 0.9934\n",
            "Epoch 20/40\n",
            "176/176 [==============================] - 0s 3ms/step - loss: 0.0216 - binary_accuracy: 0.9916\n",
            "Epoch 21/40\n",
            "176/176 [==============================] - 1s 3ms/step - loss: 0.0224 - binary_accuracy: 0.9930\n",
            "Epoch 22/40\n",
            "176/176 [==============================] - 1s 3ms/step - loss: 0.0155 - binary_accuracy: 0.9943\n",
            "Epoch 23/40\n",
            "176/176 [==============================] - 1s 3ms/step - loss: 0.0161 - binary_accuracy: 0.9938\n",
            "Epoch 24/40\n",
            "176/176 [==============================] - 1s 3ms/step - loss: 0.0116 - binary_accuracy: 0.9966\n",
            "Epoch 25/40\n",
            "176/176 [==============================] - 1s 3ms/step - loss: 0.0169 - binary_accuracy: 0.9948\n",
            "Epoch 26/40\n",
            "176/176 [==============================] - 1s 4ms/step - loss: 0.0183 - binary_accuracy: 0.9945\n",
            "Epoch 27/40\n",
            "176/176 [==============================] - 1s 3ms/step - loss: 0.0102 - binary_accuracy: 0.9966\n",
            "Epoch 28/40\n",
            "176/176 [==============================] - 1s 3ms/step - loss: 0.0139 - binary_accuracy: 0.9943\n",
            "Epoch 29/40\n",
            "176/176 [==============================] - 1s 3ms/step - loss: 0.0118 - binary_accuracy: 0.9957\n",
            "Epoch 30/40\n",
            "176/176 [==============================] - 1s 3ms/step - loss: 0.0090 - binary_accuracy: 0.9971\n",
            "Epoch 31/40\n",
            "176/176 [==============================] - 1s 3ms/step - loss: 0.0075 - binary_accuracy: 0.9977\n",
            "Epoch 32/40\n",
            "176/176 [==============================] - 1s 3ms/step - loss: 0.0086 - binary_accuracy: 0.9975\n",
            "Epoch 33/40\n",
            "176/176 [==============================] - 1s 3ms/step - loss: 0.0055 - binary_accuracy: 0.9980\n",
            "Epoch 34/40\n",
            "176/176 [==============================] - 1s 3ms/step - loss: 0.0104 - binary_accuracy: 0.9963\n",
            "Epoch 35/40\n",
            "176/176 [==============================] - 1s 3ms/step - loss: 0.0145 - binary_accuracy: 0.9948\n",
            "Epoch 36/40\n",
            "176/176 [==============================] - 1s 3ms/step - loss: 0.0145 - binary_accuracy: 0.9964\n",
            "Epoch 37/40\n",
            "176/176 [==============================] - 1s 3ms/step - loss: 0.0060 - binary_accuracy: 0.9982\n",
            "Epoch 38/40\n",
            "176/176 [==============================] - 1s 3ms/step - loss: 0.0041 - binary_accuracy: 0.9989\n",
            "Epoch 39/40\n",
            "176/176 [==============================] - 1s 3ms/step - loss: 0.0039 - binary_accuracy: 0.9988\n",
            "Epoch 40/40\n",
            "176/176 [==============================] - 1s 3ms/step - loss: 0.0069 - binary_accuracy: 0.9975\n",
            "44/44 [==============================] - 0s 2ms/step\n"
          ]
        }
      ]
    },
    {
      "cell_type": "code",
      "source": [
        "pred"
      ],
      "metadata": {
        "colab": {
          "base_uri": "https://localhost:8080/"
        },
        "id": "qbH0HFi7gEj-",
        "outputId": "787c48e1-2d12-45bb-afc5-b6abf17a3147"
      },
      "execution_count": 23,
      "outputs": [
        {
          "output_type": "execute_result",
          "data": {
            "text/plain": [
              "array([[1.5552894e-08],\n",
              "       [9.9993622e-01],\n",
              "       [4.1065924e-08],\n",
              "       ...,\n",
              "       [6.6725841e-21],\n",
              "       [3.7211675e-11],\n",
              "       [9.9999982e-01]], dtype=float32)"
            ]
          },
          "metadata": {},
          "execution_count": 23
        }
      ]
    },
    {
      "cell_type": "code",
      "source": [
        "pred = pred >= 0.5"
      ],
      "metadata": {
        "id": "Ek9tbvbDgIfr"
      },
      "execution_count": 24,
      "outputs": []
    },
    {
      "cell_type": "code",
      "source": [
        "performance(y_test, pred)"
      ],
      "metadata": {
        "colab": {
          "base_uri": "https://localhost:8080/"
        },
        "id": "5epDW6V3f2Lt",
        "outputId": "b5cc8c6a-de4d-4316-f94c-67e5a44c94f3"
      },
      "execution_count": 25,
      "outputs": [
        {
          "output_type": "stream",
          "name": "stdout",
          "text": [
            "F1 Score: 0.9802197802197802\n",
            "Accuracy Score: 0.9837249601441742\n",
            "Confusion Matrix:\n",
            "[[939   6]\n",
            " [ 12 446]]\n",
            "              precision    recall  f1-score   support\n",
            "\n",
            "           0       0.99      0.99      0.99       945\n",
            "           1       0.99      0.97      0.98       458\n",
            "\n",
            "    accuracy                           0.99      1403\n",
            "   macro avg       0.99      0.98      0.99      1403\n",
            "weighted avg       0.99      0.99      0.99      1403\n",
            "\n"
          ]
        }
      ]
    },
    {
      "cell_type": "code",
      "source": [
        "saveModel(model, \"/content/drive/MyDrive/Kepler Exoplanet/model/nn-model.h5\")"
      ],
      "metadata": {
        "id": "ISxzXKTGf_rU"
      },
      "execution_count": 26,
      "outputs": []
    },
    {
      "cell_type": "markdown",
      "source": [
        "##Plotting the Feature Importance for Neural Network"
      ],
      "metadata": {
        "id": "62molPN7QYqt"
      }
    },
    {
      "cell_type": "code",
      "source": [
        "model_perm = KerasClassifier(build_fn=createModel, epochs=20, verbose=0)\n",
        "model_perm.fit(X, y)\n",
        "perm = PermutationImportance(model_perm, random_state=0).fit(X,y)"
      ],
      "metadata": {
        "colab": {
          "base_uri": "https://localhost:8080/"
        },
        "id": "oY9h0R4xLGqu",
        "outputId": "1147f3c8-b2e8-409a-cf52-814b323291bb"
      },
      "execution_count": 51,
      "outputs": [
        {
          "output_type": "stream",
          "name": "stderr",
          "text": [
            "/usr/local/lib/python3.8/dist-packages/scikeras/wrappers.py:301: UserWarning: ``build_fn`` will be renamed to ``model`` in a future release, at which point use of ``build_fn`` will raise an Error instead.\n",
            "  warnings.warn(\n"
          ]
        }
      ]
    },
    {
      "cell_type": "code",
      "source": [
        "eli5.explain_weights(perm, feature_names = TO_USE)"
      ],
      "metadata": {
        "colab": {
          "base_uri": "https://localhost:8080/",
          "height": 364
        },
        "id": "MAgoSK4PPGin",
        "outputId": "bd7228f0-8520-4484-c73c-db183651828c"
      },
      "execution_count": 52,
      "outputs": [
        {
          "output_type": "execute_result",
          "data": {
            "text/plain": [
              "Explanation(estimator='PermutationImportance(estimator=KerasClassifier(build_fn=<function createModel at 0x7fc6a58dda60>, epochs=20, verbose=0),\\n                      random_state=0)', description=\"\\nFeature importances, computed as a decrease in score when feature\\nvalues are permuted (i.e. become noise). This is also known as \\npermutation importance.\\n\\nIf feature importances are computed on the same data as used for training, \\nthey don't reflect importance of features for generalization. Use a held-out\\ndataset if you want generalization feature importances.\\n\", error=None, method='feature importances', is_regression=False, targets=None, feature_importances=FeatureImportances(importances=[FeatureWeight(feature='koi_fpflag_nt', weight=0.15335044197319642, std=0.0027801174205956424, value=None), FeatureWeight(feature='ra', weight=0.06221842030225262, std=0.002119676936418117, value=None), FeatureWeight(feature='koi_depth', weight=0.04816082121471339, std=0.002658728873895671, value=None), FeatureWeight(feature='koi_srad', weight=0.042286854861705137, std=0.00233504905475601, value=None), FeatureWeight(feature='koi_steff', weight=0.03689763330481888, std=0.0006075641788612108, value=None), FeatureWeight(feature='koi_kepmag', weight=0.03646991730824065, std=0.0015962971203054995, value=None), FeatureWeight(feature='koi_fpflag_ss', weight=0.02908468776732249, std=0.0017830052125307697, value=None), FeatureWeight(feature='koi_duration', weight=0.021870544625035637, std=0.0005885305799985848, value=None), FeatureWeight(feature='dec', weight=0.019361277445109758, std=0.0011805099255480143, value=None), FeatureWeight(feature='koi_fpflag_co', weight=0.019190191046478455, std=0.0014131179576120849, value=None), FeatureWeight(feature='koi_slogg', weight=0.015198175078414589, std=0.0009610664126804995, value=None), FeatureWeight(feature='koi_teq', weight=0.014000570287995418, std=0.0004171297073945794, value=None), FeatureWeight(feature='koi_model_snr', weight=0.012603364699173048, std=0.002266132476339363, value=None), FeatureWeight(feature='koi_prad', weight=0.011548331907613308, std=0.0008788728262003098, value=None), FeatureWeight(feature='koi_period', weight=0.007185628742514938, std=0.0003561447390018836, value=None), FeatureWeight(feature='koi_impact', weight=0.006187624750498988, std=0.0005602190677042748, value=None), FeatureWeight(feature='koi_fpflag_ec', weight=0.005218135158254889, std=0.0008535289162871595, value=None), FeatureWeight(feature='koi_time0bk', weight=0.004647847162817187, std=0.00042866542282216124, value=None), FeatureWeight(feature='koi_insol', weight=0.002224123182206972, std=0.0002644316651125184, value=None)], remaining=0), decision_tree=None, highlight_spaces=None, transition_features=None, image=None)"
            ],
            "text/html": [
              "\n",
              "    <style>\n",
              "    table.eli5-weights tr:hover {\n",
              "        filter: brightness(85%);\n",
              "    }\n",
              "</style>\n",
              "\n",
              "\n",
              "\n",
              "    \n",
              "\n",
              "    \n",
              "\n",
              "    \n",
              "\n",
              "    \n",
              "\n",
              "    \n",
              "\n",
              "    \n",
              "\n",
              "\n",
              "    \n",
              "\n",
              "    \n",
              "\n",
              "    \n",
              "\n",
              "    \n",
              "\n",
              "    \n",
              "\n",
              "    \n",
              "\n",
              "\n",
              "    \n",
              "\n",
              "    \n",
              "\n",
              "    \n",
              "\n",
              "    \n",
              "\n",
              "    \n",
              "        <table class=\"eli5-weights eli5-feature-importances\" style=\"border-collapse: collapse; border: none; margin-top: 0em; table-layout: auto;\">\n",
              "    <thead>\n",
              "    <tr style=\"border: none;\">\n",
              "        <th style=\"padding: 0 1em 0 0.5em; text-align: right; border: none;\">Weight</th>\n",
              "        <th style=\"padding: 0 0.5em 0 0.5em; text-align: left; border: none;\">Feature</th>\n",
              "    </tr>\n",
              "    </thead>\n",
              "    <tbody>\n",
              "    \n",
              "        <tr style=\"background-color: hsl(120, 100.00%, 80.00%); border: none;\">\n",
              "            <td style=\"padding: 0 1em 0 0.5em; text-align: right; border: none;\">\n",
              "                0.1534\n",
              "                \n",
              "                    &plusmn; 0.0056\n",
              "                \n",
              "            </td>\n",
              "            <td style=\"padding: 0 0.5em 0 0.5em; text-align: left; border: none;\">\n",
              "                koi_fpflag_nt\n",
              "            </td>\n",
              "        </tr>\n",
              "    \n",
              "        <tr style=\"background-color: hsl(120, 100.00%, 89.36%); border: none;\">\n",
              "            <td style=\"padding: 0 1em 0 0.5em; text-align: right; border: none;\">\n",
              "                0.0622\n",
              "                \n",
              "                    &plusmn; 0.0042\n",
              "                \n",
              "            </td>\n",
              "            <td style=\"padding: 0 0.5em 0 0.5em; text-align: left; border: none;\">\n",
              "                ra\n",
              "            </td>\n",
              "        </tr>\n",
              "    \n",
              "        <tr style=\"background-color: hsl(120, 100.00%, 91.11%); border: none;\">\n",
              "            <td style=\"padding: 0 1em 0 0.5em; text-align: right; border: none;\">\n",
              "                0.0482\n",
              "                \n",
              "                    &plusmn; 0.0053\n",
              "                \n",
              "            </td>\n",
              "            <td style=\"padding: 0 0.5em 0 0.5em; text-align: left; border: none;\">\n",
              "                koi_depth\n",
              "            </td>\n",
              "        </tr>\n",
              "    \n",
              "        <tr style=\"background-color: hsl(120, 100.00%, 91.88%); border: none;\">\n",
              "            <td style=\"padding: 0 1em 0 0.5em; text-align: right; border: none;\">\n",
              "                0.0423\n",
              "                \n",
              "                    &plusmn; 0.0047\n",
              "                \n",
              "            </td>\n",
              "            <td style=\"padding: 0 0.5em 0 0.5em; text-align: left; border: none;\">\n",
              "                koi_srad\n",
              "            </td>\n",
              "        </tr>\n",
              "    \n",
              "        <tr style=\"background-color: hsl(120, 100.00%, 92.62%); border: none;\">\n",
              "            <td style=\"padding: 0 1em 0 0.5em; text-align: right; border: none;\">\n",
              "                0.0369\n",
              "                \n",
              "                    &plusmn; 0.0012\n",
              "                \n",
              "            </td>\n",
              "            <td style=\"padding: 0 0.5em 0 0.5em; text-align: left; border: none;\">\n",
              "                koi_steff\n",
              "            </td>\n",
              "        </tr>\n",
              "    \n",
              "        <tr style=\"background-color: hsl(120, 100.00%, 92.68%); border: none;\">\n",
              "            <td style=\"padding: 0 1em 0 0.5em; text-align: right; border: none;\">\n",
              "                0.0365\n",
              "                \n",
              "                    &plusmn; 0.0032\n",
              "                \n",
              "            </td>\n",
              "            <td style=\"padding: 0 0.5em 0 0.5em; text-align: left; border: none;\">\n",
              "                koi_kepmag\n",
              "            </td>\n",
              "        </tr>\n",
              "    \n",
              "        <tr style=\"background-color: hsl(120, 100.00%, 93.75%); border: none;\">\n",
              "            <td style=\"padding: 0 1em 0 0.5em; text-align: right; border: none;\">\n",
              "                0.0291\n",
              "                \n",
              "                    &plusmn; 0.0036\n",
              "                \n",
              "            </td>\n",
              "            <td style=\"padding: 0 0.5em 0 0.5em; text-align: left; border: none;\">\n",
              "                koi_fpflag_ss\n",
              "            </td>\n",
              "        </tr>\n",
              "    \n",
              "        <tr style=\"background-color: hsl(120, 100.00%, 94.88%); border: none;\">\n",
              "            <td style=\"padding: 0 1em 0 0.5em; text-align: right; border: none;\">\n",
              "                0.0219\n",
              "                \n",
              "                    &plusmn; 0.0012\n",
              "                \n",
              "            </td>\n",
              "            <td style=\"padding: 0 0.5em 0 0.5em; text-align: left; border: none;\">\n",
              "                koi_duration\n",
              "            </td>\n",
              "        </tr>\n",
              "    \n",
              "        <tr style=\"background-color: hsl(120, 100.00%, 95.30%); border: none;\">\n",
              "            <td style=\"padding: 0 1em 0 0.5em; text-align: right; border: none;\">\n",
              "                0.0194\n",
              "                \n",
              "                    &plusmn; 0.0024\n",
              "                \n",
              "            </td>\n",
              "            <td style=\"padding: 0 0.5em 0 0.5em; text-align: left; border: none;\">\n",
              "                dec\n",
              "            </td>\n",
              "        </tr>\n",
              "    \n",
              "        <tr style=\"background-color: hsl(120, 100.00%, 95.33%); border: none;\">\n",
              "            <td style=\"padding: 0 1em 0 0.5em; text-align: right; border: none;\">\n",
              "                0.0192\n",
              "                \n",
              "                    &plusmn; 0.0028\n",
              "                \n",
              "            </td>\n",
              "            <td style=\"padding: 0 0.5em 0 0.5em; text-align: left; border: none;\">\n",
              "                koi_fpflag_co\n",
              "            </td>\n",
              "        </tr>\n",
              "    \n",
              "        <tr style=\"background-color: hsl(120, 100.00%, 96.03%); border: none;\">\n",
              "            <td style=\"padding: 0 1em 0 0.5em; text-align: right; border: none;\">\n",
              "                0.0152\n",
              "                \n",
              "                    &plusmn; 0.0019\n",
              "                \n",
              "            </td>\n",
              "            <td style=\"padding: 0 0.5em 0 0.5em; text-align: left; border: none;\">\n",
              "                koi_slogg\n",
              "            </td>\n",
              "        </tr>\n",
              "    \n",
              "        <tr style=\"background-color: hsl(120, 100.00%, 96.26%); border: none;\">\n",
              "            <td style=\"padding: 0 1em 0 0.5em; text-align: right; border: none;\">\n",
              "                0.0140\n",
              "                \n",
              "                    &plusmn; 0.0008\n",
              "                \n",
              "            </td>\n",
              "            <td style=\"padding: 0 0.5em 0 0.5em; text-align: left; border: none;\">\n",
              "                koi_teq\n",
              "            </td>\n",
              "        </tr>\n",
              "    \n",
              "        <tr style=\"background-color: hsl(120, 100.00%, 96.52%); border: none;\">\n",
              "            <td style=\"padding: 0 1em 0 0.5em; text-align: right; border: none;\">\n",
              "                0.0126\n",
              "                \n",
              "                    &plusmn; 0.0045\n",
              "                \n",
              "            </td>\n",
              "            <td style=\"padding: 0 0.5em 0 0.5em; text-align: left; border: none;\">\n",
              "                koi_model_snr\n",
              "            </td>\n",
              "        </tr>\n",
              "    \n",
              "        <tr style=\"background-color: hsl(120, 100.00%, 96.73%); border: none;\">\n",
              "            <td style=\"padding: 0 1em 0 0.5em; text-align: right; border: none;\">\n",
              "                0.0115\n",
              "                \n",
              "                    &plusmn; 0.0018\n",
              "                \n",
              "            </td>\n",
              "            <td style=\"padding: 0 0.5em 0 0.5em; text-align: left; border: none;\">\n",
              "                koi_prad\n",
              "            </td>\n",
              "        </tr>\n",
              "    \n",
              "        <tr style=\"background-color: hsl(120, 100.00%, 97.65%); border: none;\">\n",
              "            <td style=\"padding: 0 1em 0 0.5em; text-align: right; border: none;\">\n",
              "                0.0072\n",
              "                \n",
              "                    &plusmn; 0.0007\n",
              "                \n",
              "            </td>\n",
              "            <td style=\"padding: 0 0.5em 0 0.5em; text-align: left; border: none;\">\n",
              "                koi_period\n",
              "            </td>\n",
              "        </tr>\n",
              "    \n",
              "        <tr style=\"background-color: hsl(120, 100.00%, 97.89%); border: none;\">\n",
              "            <td style=\"padding: 0 1em 0 0.5em; text-align: right; border: none;\">\n",
              "                0.0062\n",
              "                \n",
              "                    &plusmn; 0.0011\n",
              "                \n",
              "            </td>\n",
              "            <td style=\"padding: 0 0.5em 0 0.5em; text-align: left; border: none;\">\n",
              "                koi_impact\n",
              "            </td>\n",
              "        </tr>\n",
              "    \n",
              "        <tr style=\"background-color: hsl(120, 100.00%, 98.12%); border: none;\">\n",
              "            <td style=\"padding: 0 1em 0 0.5em; text-align: right; border: none;\">\n",
              "                0.0052\n",
              "                \n",
              "                    &plusmn; 0.0017\n",
              "                \n",
              "            </td>\n",
              "            <td style=\"padding: 0 0.5em 0 0.5em; text-align: left; border: none;\">\n",
              "                koi_fpflag_ec\n",
              "            </td>\n",
              "        </tr>\n",
              "    \n",
              "        <tr style=\"background-color: hsl(120, 100.00%, 98.27%); border: none;\">\n",
              "            <td style=\"padding: 0 1em 0 0.5em; text-align: right; border: none;\">\n",
              "                0.0046\n",
              "                \n",
              "                    &plusmn; 0.0009\n",
              "                \n",
              "            </td>\n",
              "            <td style=\"padding: 0 0.5em 0 0.5em; text-align: left; border: none;\">\n",
              "                koi_time0bk\n",
              "            </td>\n",
              "        </tr>\n",
              "    \n",
              "        <tr style=\"background-color: hsl(120, 100.00%, 98.97%); border: none;\">\n",
              "            <td style=\"padding: 0 1em 0 0.5em; text-align: right; border: none;\">\n",
              "                0.0022\n",
              "                \n",
              "                    &plusmn; 0.0005\n",
              "                \n",
              "            </td>\n",
              "            <td style=\"padding: 0 0.5em 0 0.5em; text-align: left; border: none;\">\n",
              "                koi_insol\n",
              "            </td>\n",
              "        </tr>\n",
              "    \n",
              "    \n",
              "    </tbody>\n",
              "</table>\n",
              "    \n",
              "\n",
              "    \n",
              "\n",
              "\n",
              "    \n",
              "\n",
              "    \n",
              "\n",
              "    \n",
              "\n",
              "    \n",
              "\n",
              "    \n",
              "\n",
              "    \n",
              "\n",
              "\n",
              "\n"
            ]
          },
          "metadata": {},
          "execution_count": 52
        }
      ]
    },
    {
      "cell_type": "code",
      "source": [
        "order = np.argsort(perm.feature_importances_)[::-1]\n",
        "sorted_importances = sorted(perm.feature_importances_, reverse = True)\n",
        "sorted_features = np.asarray(TO_USE)[order]\n",
        "feature_importance_df = pd.DataFrame()\n",
        "feature_importance_df['Features'] = sorted_features\n",
        "feature_importance_df['Importance'] = sorted_importances"
      ],
      "metadata": {
        "id": "d9ZjHly3PKA2"
      },
      "execution_count": 53,
      "outputs": []
    },
    {
      "cell_type": "code",
      "source": [
        "feature_importance_df.plot(x = 'Features', y = 'Importance', kind = 'bar')\n",
        "plt.title('Plot depicting feature importance')\n",
        "plt.grid()\n",
        "plt.xlabel('Featurs')\n",
        "plt.ylabel('Importance')\n",
        "plt.savefig(\"feat_imp_nn.png\", dpi=600)\n",
        "plt.show()"
      ],
      "metadata": {
        "colab": {
          "base_uri": "https://localhost:8080/",
          "height": 356
        },
        "id": "eU3nrZnSPMMX",
        "outputId": "aaba548e-b784-49ea-b5e9-d85026e22aa8"
      },
      "execution_count": 54,
      "outputs": [
        {
          "output_type": "display_data",
          "data": {
            "text/plain": [
              "<Figure size 432x288 with 1 Axes>"
            ],
            "image/png": "[encoded data removed]"
          },
          "metadata": {
            "needs_background": "light"
          }
        }
      ]
    },
    {
      "cell_type": "code",
      "source": [
        "\n",
        "!pip3 install ann_visualizer\n",
        "!pip install graphviz"
      ],
      "metadata": {
        "colab": {
          "base_uri": "https://localhost:8080/"
        },
        "id": "2TjIf33qRJGe",
        "outputId": "f498e8f9-cef7-4ff9-dfc1-5a07a3d19167"
      },
      "execution_count": 57,
      "outputs": [
        {
          "output_type": "stream",
          "name": "stdout",
          "text": [
            "Looking in indexes: https://pypi.org/simple, https://us-python.pkg.dev/colab-wheels/public/simple/\n",
            "Collecting ann_visualizer\n",
            "  Downloading ann_visualizer-2.5.tar.gz (4.7 kB)\n",
            "Building wheels for collected packages: ann-visualizer\n",
            "  Building wheel for ann-visualizer (setup.py) ... \u001b[?25l\u001b[?25hdone\n",
            "  Created wheel for ann-visualizer: filename=ann_visualizer-2.5-py3-none-any.whl size=4168 sha256=298d492e317207343cc8eac0838762b409f46e8439a8b63acb306169dde429a5\n",
            "  Stored in directory: /root/.cache/pip/wheels/4b/ef/77/9b8c4ae2f9a11de19957b80bc5c684accd99114bb8dc6b374c\n",
            "Successfully built ann-visualizer\n",
            "Installing collected packages: ann-visualizer\n",
            "Successfully installed ann-visualizer-2.5\n",
            "Looking in indexes: https://pypi.org/simple, https://us-python.pkg.dev/colab-wheels/public/simple/\n",
            "Requirement already satisfied: graphviz in /usr/local/lib/python3.8/dist-packages (0.10.1)\n"
          ]
        }
      ]
    },
    {
      "cell_type": "code",
      "source": [
        "from keras.utils.vis_utils import plot_model"
      ],
      "metadata": {
        "id": "cczxWofHQrPL"
      },
      "execution_count": 56,
      "outputs": []
    },
    {
      "cell_type": "code",
      "source": [
        "from ann_visualizer.visualize import ann_viz;\n",
        "\n",
        "ann_viz(model, view=True, filename=\"cconstruct_model\", title=\"NN-model \")"
      ],
      "metadata": {
        "id": "_G3KjhfoQrjm"
      },
      "execution_count": 58,
      "outputs": []
    }
  ]
}